{
 "cells": [
  {
   "cell_type": "code",
   "execution_count": 1,
   "metadata": {},
   "outputs": [],
   "source": [
    "import pandas as pd\n",
    "import numpy as np\n",
    "import matplotlib.pyplot as plt\n",
    "import os"
   ]
  },
  {
   "cell_type": "code",
   "execution_count": 19,
   "metadata": {},
   "outputs": [],
   "source": [
    "#一个遍历文件夹下面全部文件的函数\n",
    "def findAllFile(base):\n",
    "    for root, ds, fs in os.walk(base):\n",
    "        for f in fs:\n",
    "            if f.endswith('.xlsx'):\n",
    "                fullname = os.path.join(root, f)\n",
    "                yield fullname"
   ]
  },
  {
   "cell_type": "code",
   "execution_count": 44,
   "metadata": {},
   "outputs": [
    {
     "data": {
      "text/plain": [
       "[15,\n",
       " 16,\n",
       " 17,\n",
       " 18,\n",
       " 20,\n",
       " 20,\n",
       " 21,\n",
       " 21,\n",
       " 20,\n",
       " 21,\n",
       " 23,\n",
       " 22,\n",
       " 22,\n",
       " 23,\n",
       " 24,\n",
       " 24,\n",
       " 23,\n",
       " 23,\n",
       " 23,\n",
       " 24,\n",
       " 24,\n",
       " 23,\n",
       " 22,\n",
       " 22,\n",
       " 23,\n",
       " 22,\n",
       " 22,\n",
       " 22,\n",
       " 22,\n",
       " 22,\n",
       " 21,\n",
       " 21,\n",
       " 22,\n",
       " 21,\n",
       " 20,\n",
       " 20,\n",
       " 20,\n",
       " 20,\n",
       " 19,\n",
       " 20,\n",
       " 18,\n",
       " 19,\n",
       " 18,\n",
       " 19,\n",
       " 18,\n",
       " 19,\n",
       " 19,\n",
       " 18,\n",
       " 19,\n",
       " 20,\n",
       " 20,\n",
       " 19,\n",
       " 21,\n",
       " 21,\n",
       " 22,\n",
       " 21,\n",
       " 23,\n",
       " 24,\n",
       " 25,\n",
       " 25]"
      ]
     },
     "execution_count": 44,
     "metadata": {},
     "output_type": "execute_result"
    }
   ],
   "source": [
    "#base市场预测文件夹 我将名字换成market_pred 换成其他亦可\n",
    "base = 'market_pred/'\n",
    "x = 0\n",
    "d_list = [0]*60\n",
    "for i in findAllFile(base):\n",
    "    data = pd.read_excel(i)\n",
    "    rows = data.values\n",
    "    #d_list即为列表 d_list[i]代表第i天的需求预测 先求和再算平均\n",
    "    for k in range(60):\n",
    "        d_list[k] += rows[3+2*(k//10)][k%10+1]\n",
    "for j in range(60):\n",
    "    d_list[j] = round(d_list[j]/101)\n",
    "d_list"
   ]
  }
 ],
 "metadata": {
  "kernelspec": {
   "display_name": "Python 3",
   "language": "python",
   "name": "python3"
  },
  "language_info": {
   "codemirror_mode": {
    "name": "ipython",
    "version": 3
   },
   "file_extension": ".py",
   "mimetype": "text/x-python",
   "name": "python",
   "nbconvert_exporter": "python",
   "pygments_lexer": "ipython3",
   "version": "3.7.6"
  }
 },
 "nbformat": 4,
 "nbformat_minor": 4
}
