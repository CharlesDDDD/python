{
 "cells": [
  {
   "cell_type": "code",
   "execution_count": 169,
   "metadata": {},
   "outputs": [],
   "source": [
    "\n",
    "import numpy as np\n",
    "\n",
    "import matplotlib.pyplot as plt\n",
    "from scipy.stats import norm,t,f\n",
    "from interval import Interval"
   ]
  },
  {
   "cell_type": "code",
   "execution_count": 163,
   "metadata": {},
   "outputs": [],
   "source": [
    "# np.random.seed(0)\n",
    "#当方差已知时，使用的是u区间\n",
    "def u_plot(mu,sigma,sampleNo):\n",
    "    test_list=[]\n",
    "    list1=[]\n",
    "    list2=[]\n",
    "    for i in range(0,100):\n",
    "        s = np.random.normal(mu, sigma, sampleNo )\n",
    "        #求均值\n",
    "        mean = np.mean(s)\n",
    "        \n",
    "#         #求标准差\n",
    "#         std = np.std(s)\n",
    "        \n",
    "        #计算置信区间\n",
    "        u=norm.ppf(0.95,loc=0,scale=1)\n",
    "        c1 = mean-sigma/np.sqrt(sampleNo-1)*u\n",
    "        c2 = mean+sigma/np.sqrt(sampleNo-1)*u\n",
    "        list1.append(-1*c1)\n",
    "        list2.append(c2)\n",
    "    \n",
    "    \n",
    "    #绘图\n",
    "    #print(list1)\n",
    "    x=np.linspace(0,100,100) # 生成[0,100]等间隔的100个数据\n",
    "    y=np.zeros(100)\n",
    "    temp_list=np.array([list1,list2]) # 下置信度和上置信度\n",
    "    #计算有多少个区间包含真值0\n",
    "    count=0\n",
    "    for i in range(0,100):\n",
    "        if 0 in Interval(-1*list1[i],list2[i]):\n",
    "            count+=1\n",
    "    plt.errorbar(x,y,yerr=temp_list,ecolor='black',\n",
    "                elinewidth=1,fmt='-',ms=3)\n",
    "    \n",
    "    print(\"100个区间中共有\",count,\"个包含参数真值0\")\n",
    "    plt.show()"
   ]
  },
  {
   "cell_type": "code",
   "execution_count": 164,
   "metadata": {},
   "outputs": [
    {
     "name": "stdout",
     "output_type": "stream",
     "text": [
      "100个区间中共有 91 个包含参数真值0\n"
     ]
    },
    {
     "data": {
      "image/png": "[encoded data removed]",
      "text/plain": [
       "<Figure size 432x288 with 1 Axes>"
      ]
     },
     "metadata": {
      "needs_background": "light"
     },
     "output_type": "display_data"
    }
   ],
   "source": [
    "#⽅差已知，sigma^2 = 9 时，n = 10；\n",
    "u_plot(mu=0,sigma=3,sampleNo=10)"
   ]
  },
  {
   "cell_type": "code",
   "execution_count": 168,
   "metadata": {},
   "outputs": [
    {
     "name": "stdout",
     "output_type": "stream",
     "text": [
      "100个区间中共有 92 个包含参数真值0\n"
     ]
    },
    {
     "data": {
      "image/png": "[encoded data removed]",
      "text/plain": [
       "<Figure size 432x288 with 1 Axes>"
      ]
     },
     "metadata": {
      "needs_background": "light"
     },
     "output_type": "display_data"
    }
   ],
   "source": [
    "#⽅差已知，sigma^2 = 9 ，n = 30；\n",
    "u_plot(0,3,30)"
   ]
  },
  {
   "cell_type": "code",
   "execution_count": 160,
   "metadata": {},
   "outputs": [],
   "source": [
    "\n",
    "#此时置信区间为t区间\n",
    "def t_plot(mu,sigma,sampleNo):\n",
    "    test_list=[]\n",
    "    list1=[]\n",
    "    list2=[]\n",
    "    for i in range(0,100):\n",
    "        s = np.random.normal(mu, sigma, sampleNo )\n",
    "        #求均值\n",
    "        mean = np.mean(s)\n",
    "        \n",
    "        #求标准差\n",
    "        std = np.std(s)\n",
    "        \n",
    "        #计算置信区间\n",
    "        t1=t.ppf(0.95,df=sampleNo-1,loc=0,scale=1)#df是自由度-1\n",
    "        \n",
    "        c1=mean-std/np.sqrt(sampleNo-1)*t1\n",
    "        c2=mean+std/np.sqrt(sampleNo-1)*t1\n",
    "        list1.append(-1*c1)\n",
    "        list2.append(c2)\n",
    "    \n",
    "    \n",
    "    #绘图\n",
    "    #print(list1)\n",
    "    x=np.linspace(0,100,100) # 生成[0,100]等间隔的100个数据\n",
    "    y=np.zeros(100)\n",
    "    temp_list=np.array([list1,list2]) # 下置信度和上置信度\n",
    "    #print(temp_list)\n",
    "    count=0\n",
    "    for i in range(0,100):\n",
    "        if 0 in Interval(-1*list1[i],list2[i]):\n",
    "            count+=1\n",
    "    plt.errorbar(x,y,yerr=temp_list,ecolor='black',\n",
    "                elinewidth=1,fmt='-',ms=3)\n",
    "    print(\"100个区间中共有\",count,\"个包含参数真值0\")\n",
    "    \n",
    "    plt.show()\n",
    "    "
   ]
  },
  {
   "cell_type": "code",
   "execution_count": 161,
   "metadata": {},
   "outputs": [
    {
     "name": "stdout",
     "output_type": "stream",
     "text": [
      "100个区间中共有 91 个包含参数真值0\n"
     ]
    },
    {
     "data": {
      "image/png": "[encoded data removed]",
      "text/plain": [
       "<Figure size 432x288 with 1 Axes>"
      ]
     },
     "metadata": {
      "needs_background": "light"
     },
     "output_type": "display_data"
    }
   ],
   "source": [
    "#情况三：⽅差未知时，样本量n = 10；\n",
    "t_plot(0,3,10)"
   ]
  },
  {
   "cell_type": "code",
   "execution_count": 162,
   "metadata": {},
   "outputs": [
    {
     "name": "stdout",
     "output_type": "stream",
     "text": [
      "100个区间中共有 92 个包含参数真值0\n"
     ]
    },
    {
     "data": {
      "image/png": "[encoded data removed]",
      "text/plain": [
       "<Figure size 432x288 with 1 Axes>"
      ]
     },
     "metadata": {
      "needs_background": "light"
     },
     "output_type": "display_data"
    }
   ],
   "source": [
    "#情况三：⽅差未知时，样本量n = 30；\n",
    "t_plot(0,3,30)"
   ]
  },
  {
   "cell_type": "code",
   "execution_count": 158,
   "metadata": {},
   "outputs": [],
   "source": [
    "#结论： \n",
    "#1：方差已知与比方差未知相比如果包含参数真值的个数越多估计给出的也越准确\n",
    "#2：方差一定时，样本量越大，结果中包含参数真值个数越多，估计出的参数也越准确\n"
   ]
  },
  {
   "cell_type": "code",
   "execution_count": 214,
   "metadata": {},
   "outputs": [
    {
     "name": "stdout",
     "output_type": "stream",
     "text": [
      "2.1603686564610127\n"
     ]
    }
   ],
   "source": [
    "t1=t.ppf(0.975,df=13,loc=0,scale=1)\n",
    "print(t1)"
   ]
  },
  {
   "cell_type": "code",
   "execution_count": 212,
   "metadata": {},
   "outputs": [],
   "source": [
    "#第二个作图\n",
    "from scipy.special import comb\n",
    "def g(p):\n",
    "    sum=0\n",
    "    for i in range(2,7):\n",
    "        sum+=comb(20,i)*pow(p,i)*pow(1-p,20-i)\n",
    "    return sum\n",
    "ans=[]\n",
    "for i in range(0,11):\n",
    "    ans.append(g(i/10))"
   ]
  },
  {
   "cell_type": "code",
   "execution_count": 208,
   "metadata": {},
   "outputs": [],
   "source": []
  },
  {
   "cell_type": "code",
   "execution_count": 209,
   "metadata": {},
   "outputs": [
    {
     "name": "stdout",
     "output_type": "stream",
     "text": [
      "[1.0, 0.39413308753413345, 0.15586780384381005, 0.39962744757327673, 0.7505133774385867, 0.9423608779907227, 0.9935344654965697, 0.9997389546549744, 0.9999981549951281, 0.9999999997845321, 1.0]\n"
     ]
    }
   ],
   "source": [
    "print(ans)"
   ]
  },
  {
   "cell_type": "code",
   "execution_count": 211,
   "metadata": {
    "scrolled": true
   },
   "outputs": [
    {
     "data": {
      "text/plain": [
       "[<matplotlib.lines.Line2D at 0x1a79ef093c8>]"
      ]
     },
     "execution_count": 211,
     "metadata": {},
     "output_type": "execute_result"
    },
    {
     "data": {
      "image/png": "[encoded data removed]",
      "text/plain": [
       "<Figure size 432x288 with 1 Axes>"
      ]
     },
     "metadata": {
      "needs_background": "light"
     },
     "output_type": "display_data"
    }
   ],
   "source": [
    "x=np.linspace(0,1,11)\n",
    "plt.plot(x,ans,color='red',linewidth=1,linestyle='-')"
   ]
  },
  {
   "cell_type": "code",
   "execution_count": 213,
   "metadata": {},
   "outputs": [
    {
     "data": {
      "text/plain": [
       "0.26412652889084853"
      ]
     },
     "execution_count": 213,
     "metadata": {},
     "output_type": "execute_result"
    }
   ],
   "source": [
    "g(0.05)"
   ]
  },
  {
   "cell_type": "code",
   "execution_count": null,
   "metadata": {},
   "outputs": [],
   "source": []
  }
 ],
 "metadata": {
  "kernelspec": {
   "display_name": "Python 3",
   "language": "python",
   "name": "python3"
  },
  "language_info": {
   "codemirror_mode": {
    "name": "ipython",
    "version": 3
   },
   "file_extension": ".py",
   "mimetype": "text/x-python",
   "name": "python",
   "nbconvert_exporter": "python",
   "pygments_lexer": "ipython3",
   "version": "3.7.6"
  }
 },
 "nbformat": 4,
 "nbformat_minor": 2
}
