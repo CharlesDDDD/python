{
 "cells": [
  {
   "cell_type": "code",
   "execution_count": 28,
   "metadata": {},
   "outputs": [
    {
     "name": "stdout",
     "output_type": "stream",
     "text": [
      "投1000次正确率为:  0.586\n",
      "投10000次正确率为:  0.5569\n"
     ]
    }
   ],
   "source": [
    "import numpy as np\n",
    "import matplotlib.pyplot as plt\n",
    "import math\n",
    "\n",
    "'''蒙特卡罗 随机投点法方法求函数 y=log2(x+1) 在[0,1]内的定积分（值）'''\n",
    "def f(x):\n",
    "    tmp = []\n",
    "    for i in x:\n",
    "        tmp.append(math.log(i+1,2))\n",
    "    tmp = np.array(tmp)\n",
    "    return tmp\n",
    "# 投点次数\n",
    "n1 = 1000\n",
    "n2 = 10000\n",
    "\n",
    "# 矩形区域边界\n",
    "x_min, x_max = 0.0, 1.0\n",
    "y_min, y_max = 0.0, 1.0     \n",
    "\n",
    "# 在矩形区域内随机投点\n",
    "x = np.random.uniform(x_min, x_max, n1) # 均匀分布\n",
    "y = np.random.uniform(y_min, y_max, n1)\n",
    "\n",
    "# 统计 落在函数 y=x^2图像下方的点的数目\n",
    "res = sum(np.where(y < f(x), 1, 0))\n",
    "\n",
    "# 计算 定积分的近似值（Monte Carlo方法的精髓：用统计值去近似真实值）\n",
    "integral = res / n1\n",
    "\n",
    "# 在矩形区域内随机投点\n",
    "x1 = np.random.uniform(x_min, x_max, n2) # 均匀分布\n",
    "y1 = np.random.uniform(y_min, y_max, n2)\n",
    "\n",
    "# 统计 落在函数 y=x^2图像下方的点的数目\n",
    "res1 = sum(np.where(y1 < f(x1), 1, 0))\n",
    "\n",
    "# 计算 定积分的近似值（Monte Carlo方法的精髓：用统计值去近似真实值）\n",
    "integral1 = res1 / n2\n",
    "\n",
    "print('投1000次正确率为: ', integral)\n",
    "print('投10000次正确率为: ', integral1)"
   ]
  },
  {
   "cell_type": "code",
   "execution_count": 33,
   "metadata": {},
   "outputs": [
    {
     "name": "stdout",
     "output_type": "stream",
     "text": [
      "随机计算1000个点平均数为：  0.5690220782801787\n",
      "随机计算10000个点平均数为：  0.5578952248024454\n"
     ]
    }
   ],
   "source": [
    "'''蒙特卡罗 随机投点法方法求函数 y=log2(x+1) 在[0,1]内的定积分（值）'''\n",
    "n1 = 1000\n",
    "n2 = 10000\n",
    "\n",
    "x=np.random.uniform(0,1,n1)#随机生成N个0-1之间的一维点\n",
    "\n",
    "c=f(x)#把x的值代入f（x）计算\n",
    "\n",
    "s=0\n",
    "\n",
    "for i in c:\n",
    "\n",
    "    s=s+i\n",
    "\n",
    "j=s*1.00/n1\n",
    "\n",
    "x1=np.random.uniform(0,1,n2)#随机生成N个0-1之间的一维点\n",
    "\n",
    "c1=f(x1)#把x的值代入f（x）计算\n",
    "\n",
    "s1=0\n",
    "\n",
    "for i in c1:\n",
    "\n",
    "    s1=s1+i\n",
    "\n",
    "j1=s1*1.00/n2\n",
    "print (\"随机计算1000个点平均数为： \",j)\n",
    "print (\"随机计算10000个点平均数为： \",j1)\n",
    "\n"
   ]
  }
 ],
 "metadata": {
  "kernelspec": {
   "display_name": "Python 3",
   "language": "python",
   "name": "python3"
  },
  "language_info": {
   "codemirror_mode": {
    "name": "ipython",
    "version": 3
   },
   "file_extension": ".py",
   "mimetype": "text/x-python",
   "name": "python",
   "nbconvert_exporter": "python",
   "pygments_lexer": "ipython3",
   "version": "3.7.6"
  }
 },
 "nbformat": 4,
 "nbformat_minor": 4
}
